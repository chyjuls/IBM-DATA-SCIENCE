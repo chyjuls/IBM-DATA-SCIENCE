{
    "cells": [
        {
            "cell_type": "markdown",
            "metadata": {
                "collapsed": true
            },
            "source": "#  Jupyter Notebook Practice in IBM Watson Studio"
        },
        {
            "cell_type": "code",
            "execution_count": 1,
            "metadata": {},
            "outputs": [
                {
                    "data": {
                        "text/html": "<div>\n<style scoped>\n    .dataframe tbody tr th:only-of-type {\n        vertical-align: middle;\n    }\n\n    .dataframe tbody tr th {\n        vertical-align: top;\n    }\n\n    .dataframe thead th {\n        text-align: right;\n    }\n</style>\n<table border=\"1\" class=\"dataframe\">\n  <thead>\n    <tr style=\"text-align: right;\">\n      <th></th>\n      <th>DATE</th>\n      <th>HOURLYVISIBILITY</th>\n      <th>HOURLYDRYBULBTEMPF</th>\n      <th>HOURLYWETBULBTEMPF</th>\n      <th>HOURLYDewPointTempF</th>\n      <th>HOURLYRelativeHumidity</th>\n      <th>HOURLYWindSpeed</th>\n      <th>HOURLYStationPressure</th>\n      <th>HOURLYSeaLevelPressure</th>\n      <th>HOURLYPrecip</th>\n      <th>HOURLYAltimeterSetting</th>\n      <th>HOURLYWindDirectionSin</th>\n      <th>HOURLYWindDirectionCos</th>\n      <th>HOURLYPressureTendencyIncr</th>\n      <th>HOURLYPressureTendencyDecr</th>\n      <th>HOURLYPressureTendencyCons</th>\n    </tr>\n  </thead>\n  <tbody>\n    <tr>\n      <th>0</th>\n      <td>01/01/2010 01:00</td>\n      <td>6.0</td>\n      <td>33.0</td>\n      <td>32.0</td>\n      <td>31.0</td>\n      <td>92.0</td>\n      <td>0.0</td>\n      <td>29.97</td>\n      <td>29.99</td>\n      <td>0.01</td>\n      <td>29.99</td>\n      <td>0.0</td>\n      <td>1.0</td>\n      <td>0</td>\n      <td>1</td>\n      <td>0</td>\n    </tr>\n    <tr>\n      <th>1</th>\n      <td>01/01/2010 02:00</td>\n      <td>6.0</td>\n      <td>33.0</td>\n      <td>33.0</td>\n      <td>32.0</td>\n      <td>96.0</td>\n      <td>0.0</td>\n      <td>29.97</td>\n      <td>29.99</td>\n      <td>0.02</td>\n      <td>29.99</td>\n      <td>0.0</td>\n      <td>1.0</td>\n      <td>0</td>\n      <td>1</td>\n      <td>0</td>\n    </tr>\n    <tr>\n      <th>2</th>\n      <td>01/01/2010 03:00</td>\n      <td>5.0</td>\n      <td>33.0</td>\n      <td>33.0</td>\n      <td>32.0</td>\n      <td>96.0</td>\n      <td>0.0</td>\n      <td>29.97</td>\n      <td>29.99</td>\n      <td>0.00</td>\n      <td>29.99</td>\n      <td>0.0</td>\n      <td>1.0</td>\n      <td>0</td>\n      <td>1</td>\n      <td>0</td>\n    </tr>\n    <tr>\n      <th>3</th>\n      <td>01/01/2010 04:00</td>\n      <td>5.0</td>\n      <td>33.0</td>\n      <td>33.0</td>\n      <td>32.0</td>\n      <td>96.0</td>\n      <td>0.0</td>\n      <td>29.95</td>\n      <td>29.97</td>\n      <td>0.00</td>\n      <td>29.97</td>\n      <td>0.0</td>\n      <td>1.0</td>\n      <td>0</td>\n      <td>1</td>\n      <td>0</td>\n    </tr>\n    <tr>\n      <th>4</th>\n      <td>01/01/2010 05:00</td>\n      <td>5.0</td>\n      <td>33.0</td>\n      <td>32.0</td>\n      <td>31.0</td>\n      <td>92.0</td>\n      <td>0.0</td>\n      <td>29.93</td>\n      <td>29.96</td>\n      <td>0.00</td>\n      <td>29.95</td>\n      <td>0.0</td>\n      <td>1.0</td>\n      <td>0</td>\n      <td>1</td>\n      <td>0</td>\n    </tr>\n  </tbody>\n</table>\n</div>",
                        "text/plain": "               DATE  HOURLYVISIBILITY  HOURLYDRYBULBTEMPF  HOURLYWETBULBTEMPF  \\\n0  01/01/2010 01:00               6.0                33.0                32.0   \n1  01/01/2010 02:00               6.0                33.0                33.0   \n2  01/01/2010 03:00               5.0                33.0                33.0   \n3  01/01/2010 04:00               5.0                33.0                33.0   \n4  01/01/2010 05:00               5.0                33.0                32.0   \n\n   HOURLYDewPointTempF  HOURLYRelativeHumidity  HOURLYWindSpeed  \\\n0                 31.0                    92.0              0.0   \n1                 32.0                    96.0              0.0   \n2                 32.0                    96.0              0.0   \n3                 32.0                    96.0              0.0   \n4                 31.0                    92.0              0.0   \n\n   HOURLYStationPressure  HOURLYSeaLevelPressure  HOURLYPrecip  \\\n0                  29.97                   29.99          0.01   \n1                  29.97                   29.99          0.02   \n2                  29.97                   29.99          0.00   \n3                  29.95                   29.97          0.00   \n4                  29.93                   29.96          0.00   \n\n   HOURLYAltimeterSetting  HOURLYWindDirectionSin  HOURLYWindDirectionCos  \\\n0                   29.99                     0.0                     1.0   \n1                   29.99                     0.0                     1.0   \n2                   29.99                     0.0                     1.0   \n3                   29.97                     0.0                     1.0   \n4                   29.95                     0.0                     1.0   \n\n   HOURLYPressureTendencyIncr  HOURLYPressureTendencyDecr  \\\n0                           0                           1   \n1                           0                           1   \n2                           0                           1   \n3                           0                           1   \n4                           0                           1   \n\n   HOURLYPressureTendencyCons  \n0                           0  \n1                           0  \n2                           0  \n3                           0  \n4                           0  "
                    },
                    "execution_count": 1,
                    "metadata": {},
                    "output_type": "execute_result"
                }
            ],
            "source": "# The code was removed by Watson Studio for sharing."
        },
        {
            "cell_type": "code",
            "execution_count": null,
            "metadata": {},
            "outputs": [],
            "source": ""
        }
    ],
    "metadata": {
        "kernelspec": {
            "display_name": "Python 3.10",
            "language": "python",
            "name": "python3"
        },
        "language_info": {
            "codemirror_mode": {
                "name": "ipython",
                "version": 3
            },
            "file_extension": ".py",
            "mimetype": "text/x-python",
            "name": "python",
            "nbconvert_exporter": "python",
            "pygments_lexer": "ipython3",
            "version": "3.10.9"
        }
    },
    "nbformat": 4,
    "nbformat_minor": 1
}